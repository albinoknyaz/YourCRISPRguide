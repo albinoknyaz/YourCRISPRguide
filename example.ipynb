{
  "nbformat": 4,
  "nbformat_minor": 0,
  "metadata": {
    "colab": {
      "name": "example.ipynb",
      "provenance": [],
      "collapsed_sections": [],
      "toc_visible": true
    },
    "kernelspec": {
      "name": "python3",
      "display_name": "Python 3"
    }
  },
  "cells": [
    {
      "cell_type": "code",
      "metadata": {
        "id": "ZTatB9lJd_cQ"
      },
      "source": [
        "import Bio \n",
        "from Bio import SeqIO\n",
        "from Bio.Seq import Seq\n",
        "import numpy as np\n",
        "import pandas as pd\n",
        "from DeepCpf1 import run_on_seq"
      ],
      "execution_count": null,
      "outputs": []
    },
    {
      "cell_type": "markdown",
      "metadata": {
        "id": "VZbaK0U5eQlR"
      },
      "source": [
        " # Загрузите свою последовательность как фаста-файл"
      ]
    },
    {
      "cell_type": "code",
      "metadata": {
        "id": "28cDqmfDdxj-"
      },
      "source": [
        "seqs=[]\n",
        "names=[]\n",
        "for s_record in SeqIO.parse('mysequence.fasta','fasta'):\n",
        "    name = s_record.id\n",
        "    names.append(name)\n",
        "    seq = s_record.seq\n",
        "    seqs.append(seq)\n",
        "    seqLen = len(s_record)\n",
        "    print(name,seqLen)\n",
        "my_seq=seq "
      ],
      "execution_count": null,
      "outputs": []
    },
    {
      "cell_type": "markdown",
      "metadata": {
        "id": "l1ifc2R0eYHM"
      },
      "source": [
        "# ИЛИ задайте в виде строки\n",
        "\n",
        "На примере участка [1791:5791] первой хромосомы дрожжей\n",
        "\n",
        "\n"
      ]
    },
    {
      "cell_type": "code",
      "metadata": {
        "id": "oBI_PqLbeOeT"
      },
      "source": [
        "my_seq=\"AATTGGCGTTTGTCTCTAGTTTGCGATAGTGTAGATACCGTCCTTGGATAGAGCACTGGAGATGGCTGGCTTTAATCTGCTGGAGTACCATGGAACACCGGTGATCATTCTGGTCACTTGGTCTGGAGCAATACCGGTCAACATGGTGGTGAAGTCACCGTAGTTGAAAACGGCTTCAGCAACTTCGACTGGGTAGGTTTCAGTTGGGTGGGCGGCTTGGAACATGTAGTATTGGGCTAAGTGAGCTCTGATATCAGAGACGTAGACACCCAATTCCACCAAGTTGACTCTTTCGTCAGATTGAGCTAGAGTGGTGGTTGCAGAAGCAGTAGCAGCGATGGCAGCGACACCAGCGGCGATTGAAGTTAATTTGACCATTGTATTTGTTTTGTTTGTTAGTGCTGATATAAGCTTAACAGGAAAGGAAAGAATAAAGACATATTCTCAAAGGCATATAGTTGAAGCAGCTCTATTTATACCCATTCCCTCATGGGTTGTTGCTATTTAAACGATCGCTGACTGGCACCAGTTCCTCATCAAATATTCTCTATATCTCATCTTTCACACAATCTCATTATCTCTATGGAGATGCTCTTGTTTCTGAACGAATCATAAATCTTTCATAGGTTTCGTATGTGGAGTACTGTTTTATGGCGCTTATGTGTATTCGTATGCGCAGAATGTGGGAATGCCAATTATAGGGGTGCCGAGGTGCCTTATAAAACCCTTTTCTGTGCCTGTGACATTTCCTTTTTCGGTCAAAAAGAATATCCGAATTTTAGATTTGGACCCTCGTACAGAAGCTTATTGTCTAAGCCTGAATTCAGTCTGCTTTAAACGGCTTCCGCGGAGGAAATATTTCCATCTCTTGAATTCGTACAACATTAAACGTGTGTTGGGAGTCGTATACTGTTAGGGTCTGTAAACTTGTGAACTCTCGGCAAATGCCTTGGTGCAATTACGTAATTTTAGCCGCTGAGAAGCGGATGGTAATGAGACAAGTTGATATCAAACAGATACATATTTAAAAGAGGGTACCGCTAATTTAGCAGGGCAGTATTATTGTAGTTTGATATGTACGGCTAACTGAACCTAAGTAGGGATATGAGAGTAAGAACGTTCGGCTACTCTTCTTTCTAAGTGGGATTTTTCTTAATCCTTGGATTCTTAAAAGGTTATTAAAGTTCCGCACAAAGAACGCTTGGAAATCGCATTCATCAAAGAACAACTCTTCGTTTTCCAAACAATCTTCCCGAAAAAGTAGCCGTTCATTTCCCTTCCGATTTCATTCCTAGACTGCCAAATTTTTCTTGCTCATTTATAATGATTGATAAGAATTGTATTTGTGTCCCATTCTCGTAGATAAAATTCTTGGATGTTAAAAAATTATTATTTTCTTCATAAAGAAGCTTTCAAGATATAAGATACGAAATAGGGGTTGATAATTGCATGACAGTAGCTTTAGATCAAAAAGGAAAGCATGGAGGGAAACAGTAAACAGTGAAAATTCTCTTGAGAACCAAAGTAAACCTTCATTGAAGAGCTTCCTTAAAAAATTTAGAATCTCCCATGTCAACGGGTTTCCATACCTCCCCAGCATCATACATCTTTTTTCAAAGAAACTTCAAATGCCTCTTTTATGCAAGGGGCAAAATCCTGAAATGACTTAAACTTAGCAGTTTCGTCTTTTTTCAAAGAGAATGGTTGAAGAAGAATTGTTTTGGACGCTTATTGACAATCTGTTGCATTGATAAAGTACCTACTATCCCAGACTATATTTGTATACAAGTACAAAATTAGGTTTGTTGAAACAACTTTCCGATCATTGGTGCCCGTATCTGATGTTTTTTTAGTAATTTCTTTGTAAATACAGGGAGTTGTTTCGAAAGCTTATGAGAAAAATACATGAATGACAGGTAAAAATATTGGCTCGAAAAAGAGGACAAAAAGAGAAATCATAAATGAGTAAACCCACTTGCTGGACATTATCCAGTAAAGGCTTGGTAGTAACCATAATATTACCCAGGTACGAAACGCTAAGAACTTGAAAGACTCATAAAACTTCCAGGTTAAGCTATTTTTGAAAATATTCTGAGGTAAAAGCCATTAAGGTCCAGATAACCAAGGGACAATAAACCTATGCTTTTCTTGTCTTCAATTTCAGTATCTTTCCATTTTGATAATGAGCTAGTGATCCGGAAAGCTACTTTATGATGTTTCAAGGCCTGAAGTTTGAATATTTATGTAGTTCAACATCAAATGTGTCTATTTTGTGATGAGGCAACCGTCGACAACCTTATTATCGAAAAAGAACAACAAGTTCACATGCTTGTTACTCTCTATAACTAGAGAGTACTTTTTTTGGAAGCAAGTAAGAATAAGTCAATTTCTACTTACCTCATTAGGGAAAAATTTAATAGCAGTTGTTATAACGACAAATACAGGCCCTAAAAAATTCACTGTATTCAATGGTCTACGAATCGTCAATCGCTTGCGGTTATGGCACGAAGAACAATGCAATAGCTCTTACAAGCCACTACATGACAAGCAACTCATAATTTAAGTGGATAGCTTGTGATAAATTGAATTTTCTCTGTTTAGTACTTGCCGAATAGTTACTTGTTAGTTGCAGATGCTTTTTGATGACAAAGTTATCAATCTCAATATTAAACTTTTTAGGCTTTCAGGTTTAATCTTTCTTTGAGGGTGTATTAATTTTCATACAAATATTTGATTCATTATTCGTTTTACTGTTACATTAGACCTGCTCATTACATGGAGTAACTTAAGTTTTCTCAAACGCTTGATAGCATGATTTGATGTAGTAAAAAAAAAGGCAGAGTTTCCAAAAAAAATTGTTAATCGACAAAGTTAATATTATGGTGGTAGTATCTCAAATATCTGGATAACCAGATCGTACATCTCTGATAAACAATCTTTGCCACTGCTTTATCCTTTTAAATTGTATTGAGTGCTTCAGTCATTGCAAAATTTTACGAGATTTAAAATTTGTGAACCCGACCTTACCGAGAAATGATGAGCTAATTTTTATAGGTCGACCCTTCTGTCGCTTACTGGGTTGATTATCTTGTGCTTTCTTAGTATCTATCACAAAGGAGACAAAATCGTTGATAAAAAGTGCATCAACATTCCCAGCCAGAAAATGCACATCATAAAGACATGTTATTCAAGAGCCACGACCGTCTTCAATTTATCTTTTATAAAAAACCCTTGTTCTACTGACAGGATGGAATAGATATTAAATATACATTTTGCATTTTTTTTTTTTTCTGTATTGAAGATTTGTATATGAAAGATGTTTATACATCAAATGCTTTGAATAAAGCCATCTTAATTTCAATTTCATGCCCTCCTTCACCGTTTTCTGTTGGTCTAGAGGTAGCTTGTTGTGGTCACTAATGAGAACTTAAATAGTTTTCAACTGCTGGTGATAAATCAATAATTTATGTTCTTAACCTAACATTTGATGACCTTTGATGCGTTGGTTATGTTGAAGACAAATTGCCTCTAATCAGTTCCATTAAGAAATCTTCTTAACTCCTCCAAATATTCTGCCCATACGATACCTATTTGTTTACTTTGTCATTTTGCCATAAGATTGGTATCCACTTCTTGTCTGTAAAATAATTAGAAAGTAGCACAATTTTTACAGTAATGTAGCACGCGTAACTCCTAAACTTTGTCATAATGGTTGAAATGAATGTATGATATAAAAACTCGGACCCTGTTTTACTTCTTTTATAGAACCTTATTTTTGACGCAGGGAGGCGACATTTATCCAAATTAAGTTTTGACATGGCGCATCAGGGAATAAAAAAAACTTTATTATGTGGCCGAATCAACATTAATCAAATGCACTAATATTGTAACGTTCTTACAAAGGGCAGACAACTTGAGAACTTTCATGCGTGCAACAGTATTAATATTTTACTGTCTTGATATCGTTATCCTCATCGTAACGTGAATTTTTTTGTCTCAT\""
      ],
      "execution_count": 128,
      "outputs": []
    },
    {
      "cell_type": "markdown",
      "metadata": {
        "id": "44rHhs8Wj23B"
      },
      "source": [
        "# Дальше будем искать ПАМы и протоспейсер на ДНК для гидовой РНК\n",
        "\n"
      ]
    },
    {
      "cell_type": "code",
      "metadata": {
        "id": "LrFIxM-tgMTV"
      },
      "source": [
        "# Выберите нужный ПАМ из предложенных\n",
        "pam1='TTTGT'\n",
        "pam2='TTGGT'"
      ],
      "execution_count": 129,
      "outputs": []
    },
    {
      "cell_type": "markdown",
      "metadata": {
        "id": "vhkSVJXRWc3s"
      },
      "source": [
        "# Задайте параметр доступности хроматина (0/1)"
      ]
    },
    {
      "cell_type": "code",
      "metadata": {
        "id": "2bowcfvzWb6Y"
      },
      "source": [
        "chromatin_acessibilities = np.zeros(len(relevant_pam_pos)) "
      ],
      "execution_count": null,
      "outputs": []
    },
    {
      "cell_type": "code",
      "metadata": {
        "id": "eH3D_yXOeioV",
        "colab": {
          "base_uri": "https://localhost:8080/"
        },
        "outputId": "f506ea78-7276-426e-95da-c16f5ce77990"
      },
      "source": [
        "# Возьмем пример для ПАМа 1 (TTTGT) - просто чаще встречается\n",
        "pam=pam1\n",
        "j=0\n",
        "pams_pos=[]\n",
        "for i in range(230213):\n",
        "  if my_seq[i:i+5]==pam:\n",
        "    j=j+1\n",
        "    pams_pos.append(i)\n",
        "print(\"I found %s PAMs %s in current sequence\"%(j, pam))"
      ],
      "execution_count": 130,
      "outputs": [
        {
          "output_type": "stream",
          "text": [
            "I found 15 PAMs TTTGT in current sequence\n"
          ],
          "name": "stdout"
        }
      ]
    },
    {
      "cell_type": "markdown",
      "metadata": {
        "id": "9i4xdg_TwZq9"
      },
      "source": [
        "выберем только те ПАМы, у которых етсь окружение 34 bp"
      ]
    },
    {
      "cell_type": "code",
      "metadata": {
        "id": "hUbdSckojKVb"
      },
      "source": [
        "relevant_pam_pos=[]\n",
        "for pos in pams_pos:\n",
        "  if (pos>4 and pos< (len(my_seq)-30)):\n",
        "    relevant_pam_pos.append(pos)\n",
        "relevant_pam_pos"
      ],
      "execution_count": null,
      "outputs": []
    },
    {
      "cell_type": "code",
      "metadata": {
        "id": "scIlQwS6Ij6z"
      },
      "source": [
        "score_rna_dict = {}\n",
        "guide_rna=[]\n",
        "input_for_deepCpf1=[]\n",
        "for a in relevant_pam_pos: \n",
        "   input_for_deepCpf1.append(my_seq[(a-4):(a+30)])\n",
        "   guide_rna.append(my_seq[(a+5):(a+25)])"
      ],
      "execution_count": 133,
      "outputs": []
    },
    {
      "cell_type": "code",
      "metadata": {
        "id": "pyErA1HFBFak",
        "colab": {
          "base_uri": "https://localhost:8080/"
        },
        "outputId": "abe2f139-5882-4a62-e1ab-d7ed68c289c5"
      },
      "source": [
        "guide=guide_rna[0]\n",
        "print(\"PAM with protospacer: \", pam+guide)\n",
        "print(\"PAM with guide RNA  : \", Seq(pam).transcribe()+Seq(guide).transcribe())"
      ],
      "execution_count": 134,
      "outputs": [
        {
          "output_type": "stream",
          "text": [
            "PAM with protospacer:  TTTGTCTCTAGTTTGCGATAGTGTA\n",
            "PAM with guide RNA  :  UUUGUCUCUAGUUUGCGAUAGUGUA\n"
          ],
          "name": "stdout"
        }
      ]
    },
    {
      "cell_type": "markdown",
      "metadata": {
        "id": "DRy5XoD6wsIu"
      },
      "source": [
        "# Рссчет скоров c использованием библиотеки DeepCpf1"
      ]
    },
    {
      "cell_type": "code",
      "metadata": {
        "id": "FXlPfBDhgofh"
      },
      "source": [
        "def score(sequence, chrom_acess):\n",
        "  Deepcpf1_score_all=run_on_seq(sequence, chromatin_acessibilities=chrom_acess)\n",
        "  score_rna_dict=dict(\n",
        "      guide_rna = guide_rna,\n",
        "      deepCpf1 = Deepcpf1_score_all[0].flatten(),\n",
        "      seqDeepCpf1=Deepcpf1_score_all[1].flatten(),\n",
        "  )\n",
        "  \n",
        "  df = pd.DataFrame(score_rna_dict)\n",
        "  rna_score_df = df.sort_values('deepCpf1', ascending=False)\n",
        "  rna_score_df.index = df[\"guide_rna\"]\n",
        "  del rna_score_df[\"guide_rna\"]\n",
        "  return rna_score_df"
      ],
      "execution_count": 136,
      "outputs": []
    },
    {
      "cell_type": "code",
      "metadata": {
        "colab": {
          "base_uri": "https://localhost:8080/",
          "height": 545
        },
        "id": "fymKkKQ_ADcF",
        "outputId": "45b784b6-1495-4502-9416-3279c403ec73"
      },
      "source": [
        "data = score(input_for_deepCpf1, chromatin_acessibilities)\n",
        "data"
      ],
      "execution_count": 137,
      "outputs": [
        {
          "output_type": "stream",
          "text": [
            "WARNING:tensorflow:11 out of the last 11 calls to <function Model.make_predict_function.<locals>.predict_function at 0x7f766edfaf28> triggered tf.function retracing. Tracing is expensive and the excessive number of tracings could be due to (1) creating @tf.function repeatedly in a loop, (2) passing tensors with different shapes, (3) passing Python objects instead of tensors. For (1), please define your @tf.function outside of the loop. For (2), @tf.function has experimental_relax_shapes=True option that relaxes argument shapes that can avoid unnecessary retracing. For (3), please refer to https://www.tensorflow.org/tutorials/customization/performance#python_or_tensor_args and https://www.tensorflow.org/api_docs/python/tf/function for  more details.\n",
            "WARNING:tensorflow:11 out of the last 11 calls to <function Model.make_predict_function.<locals>.predict_function at 0x7f766ed19840> triggered tf.function retracing. Tracing is expensive and the excessive number of tracings could be due to (1) creating @tf.function repeatedly in a loop, (2) passing tensors with different shapes, (3) passing Python objects instead of tensors. For (1), please define your @tf.function outside of the loop. For (2), @tf.function has experimental_relax_shapes=True option that relaxes argument shapes that can avoid unnecessary retracing. For (3), please refer to https://www.tensorflow.org/tutorials/customization/performance#python_or_tensor_args and https://www.tensorflow.org/api_docs/python/tf/function for  more details.\n"
          ],
          "name": "stdout"
        },
        {
          "output_type": "execute_result",
          "data": {
            "text/html": [
              "<div>\n",
              "<style scoped>\n",
              "    .dataframe tbody tr th:only-of-type {\n",
              "        vertical-align: middle;\n",
              "    }\n",
              "\n",
              "    .dataframe tbody tr th {\n",
              "        vertical-align: top;\n",
              "    }\n",
              "\n",
              "    .dataframe thead th {\n",
              "        text-align: right;\n",
              "    }\n",
              "</style>\n",
              "<table border=\"1\" class=\"dataframe\">\n",
              "  <thead>\n",
              "    <tr style=\"text-align: right;\">\n",
              "      <th></th>\n",
              "      <th>deepCpf1</th>\n",
              "      <th>seqDeepCpf1</th>\n",
              "    </tr>\n",
              "    <tr>\n",
              "      <th>guide_rna</th>\n",
              "      <th></th>\n",
              "      <th></th>\n",
              "    </tr>\n",
              "  </thead>\n",
              "  <tbody>\n",
              "    <tr>\n",
              "      <th>CTCTAGTTTGCGATAGTGTA</th>\n",
              "      <td>85.956207</td>\n",
              "      <td>12.084718</td>\n",
              "    </tr>\n",
              "    <tr>\n",
              "      <th>TTTGTTTGTTAGTGCTGATA</th>\n",
              "      <td>71.092545</td>\n",
              "      <td>10.165046</td>\n",
              "    </tr>\n",
              "    <tr>\n",
              "      <th>TTGTTAGTGCTGATATAAGC</th>\n",
              "      <td>66.584900</td>\n",
              "      <td>9.603646</td>\n",
              "    </tr>\n",
              "    <tr>\n",
              "      <th>TAGTGCTGATATAAGCTTAA</th>\n",
              "      <td>61.549404</td>\n",
              "      <td>8.947031</td>\n",
              "    </tr>\n",
              "    <tr>\n",
              "      <th>GTCCCATTCTCGTAGATAAA</th>\n",
              "      <td>61.316334</td>\n",
              "      <td>8.913807</td>\n",
              "    </tr>\n",
              "    <tr>\n",
              "      <th>ATACAAGTACAAAATTAGGT</th>\n",
              "      <td>58.584045</td>\n",
              "      <td>8.558083</td>\n",
              "    </tr>\n",
              "    <tr>\n",
              "      <th>TGAAACAACTTTCCGATCAT</th>\n",
              "      <td>55.489498</td>\n",
              "      <td>8.167478</td>\n",
              "    </tr>\n",
              "    <tr>\n",
              "      <th>AAATACAGGGAGTTGTTTCG</th>\n",
              "      <td>50.271500</td>\n",
              "      <td>7.511533</td>\n",
              "    </tr>\n",
              "    <tr>\n",
              "      <th>GATGAGGCAACCGTCGACAA</th>\n",
              "      <td>46.647640</td>\n",
              "      <td>7.037221</td>\n",
              "    </tr>\n",
              "    <tr>\n",
              "      <th>GAACCCGACCTTACCGAGAA</th>\n",
              "      <td>46.472054</td>\n",
              "      <td>6.997709</td>\n",
              "    </tr>\n",
              "    <tr>\n",
              "      <th>ATATGAAAGATGTTTATACA</th>\n",
              "      <td>33.907558</td>\n",
              "      <td>5.377154</td>\n",
              "    </tr>\n",
              "    <tr>\n",
              "      <th>TTACTTTGTCATTTTGCCAT</th>\n",
              "      <td>13.853888</td>\n",
              "      <td>2.999524</td>\n",
              "    </tr>\n",
              "    <tr>\n",
              "      <th>CATTTTGCCATAAGATTGGT</th>\n",
              "      <td>1.531086</td>\n",
              "      <td>1.392670</td>\n",
              "    </tr>\n",
              "    <tr>\n",
              "      <th>CATAATGGTTGAAATGAATG</th>\n",
              "      <td>1.506863</td>\n",
              "      <td>1.394661</td>\n",
              "    </tr>\n",
              "  </tbody>\n",
              "</table>\n",
              "</div>"
            ],
            "text/plain": [
              "                       deepCpf1  seqDeepCpf1\n",
              "guide_rna                                   \n",
              "CTCTAGTTTGCGATAGTGTA  85.956207    12.084718\n",
              "TTTGTTTGTTAGTGCTGATA  71.092545    10.165046\n",
              "TTGTTAGTGCTGATATAAGC  66.584900     9.603646\n",
              "TAGTGCTGATATAAGCTTAA  61.549404     8.947031\n",
              "GTCCCATTCTCGTAGATAAA  61.316334     8.913807\n",
              "ATACAAGTACAAAATTAGGT  58.584045     8.558083\n",
              "TGAAACAACTTTCCGATCAT  55.489498     8.167478\n",
              "AAATACAGGGAGTTGTTTCG  50.271500     7.511533\n",
              "GATGAGGCAACCGTCGACAA  46.647640     7.037221\n",
              "GAACCCGACCTTACCGAGAA  46.472054     6.997709\n",
              "ATATGAAAGATGTTTATACA  33.907558     5.377154\n",
              "TTACTTTGTCATTTTGCCAT  13.853888     2.999524\n",
              "CATTTTGCCATAAGATTGGT   1.531086     1.392670\n",
              "CATAATGGTTGAAATGAATG   1.506863     1.394661"
            ]
          },
          "metadata": {
            "tags": []
          },
          "execution_count": 137
        }
      ]
    },
    {
      "cell_type": "markdown",
      "metadata": {
        "id": "NVmQfKH3wv9r"
      },
      "source": [
        "Итак, словарь score_rna_dict"
      ]
    },
    {
      "cell_type": "code",
      "metadata": {
        "id": "4Wse_Kd6r4ZX"
      },
      "source": [
        "data.to_csv('example_results.csv')"
      ],
      "execution_count": 138,
      "outputs": []
    },
    {
      "cell_type": "code",
      "metadata": {
        "id": "eY8WIkkhUXju"
      },
      "source": [
        ""
      ],
      "execution_count": null,
      "outputs": []
    }
  ]
}