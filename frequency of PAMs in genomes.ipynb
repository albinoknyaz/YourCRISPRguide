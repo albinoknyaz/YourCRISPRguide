{
 "cells": [
  {
   "cell_type": "code",
   "execution_count": 39,
   "metadata": {},
   "outputs": [
    {
     "name": "stdout",
     "output_type": "stream",
     "text": [
      "Frequency of PAM for RbCpf1(TTTGT) in E.coli: 5738 \n",
      "Frequency of PAM for RbCpf1(TTGGT) in E.coli: 4591 \n",
      "Frequency of PAM for AsCpf1(TTTN) in E.coli: 109861\n",
      "Frequency of PAM for RbCpf1(TTTGT) in Saccharomyces cerevisiae chr3: 666 \n",
      "Frequency of PAM for RbCpf1(TTGGT) in Saccharomyces cerevisiae chr3: 428 \n",
      "Frequency of PAM for AsCpf1(TTTN) in Saccharomyces cerevisiae chr3: 11576\n"
     ]
    }
   ],
   "source": [
    "from Bio import SeqIO \n",
    "\n",
    "def PAM_frequency(genome, PAM): \n",
    "    for s_record in SeqIO.parse(genome,'fasta'): \n",
    "        name = s_record.id \n",
    "        seq = s_record.seq \n",
    "        seqLen = len(s_record) \n",
    "\n",
    "    genome=seq\n",
    "\n",
    "    # pam1Rb='TTTGT' \n",
    "    # pam2Rb='TTGGT'\n",
    "    # pam_common1='TTN'\n",
    "    # pam_common2='TTTN'\n",
    "\n",
    "\n",
    "    pam_count=0\n",
    "    \n",
    "    for index in range (len(genome)-len(PAM)): \n",
    "        if genome[index:index+len(PAM)] == PAM: \n",
    "            pam_count+=1\n",
    "    return pam_count\n",
    "\n",
    "\n",
    "print(\n",
    "    'Frequency of PAM for RbCpf1(TTTGT) in E.coli:', \n",
    "    PAM_frequency('ecoli gen.fasta', 'TTTGT'), \n",
    "    '\\nFrequency of PAM for RbCpf1(TTGGT) in E.coli:', \n",
    "    PAM_frequency('ecoli gen.fasta', 'TTGGT'),\n",
    "    '\\nFrequency of PAM for AsCpf1(TTTN) in E.coli:', \n",
    "    PAM_frequency('ecoli gen.fasta', 'TTTA') + \n",
    "    PAM_frequency('ecoli gen.fasta', 'TTTT')+\n",
    "    PAM_frequency('ecoli gen.fasta', 'TTTG') +\n",
    "    PAM_frequency('ecoli gen.fasta', 'TTTC')\n",
    ")\n",
    "print(\n",
    "    'Frequency of PAM for RbCpf1(TTTGT) in Saccharomyces cerevisiae chr3:', \n",
    "    PAM_frequency('sac_cer3.fasta', 'TTTGT'), \n",
    "    '\\nFrequency of PAM for RbCpf1(TTGGT) in Saccharomyces cerevisiae chr3:', \n",
    "    PAM_frequency('sac_cer3.fasta', 'TTGGT'),\n",
    "    '\\nFrequency of PAM for AsCpf1(TTTN) in Saccharomyces cerevisiae chr3:', \n",
    "    PAM_frequency('sac_cer3.fasta', 'TTTA') +\n",
    "    PAM_frequency('sac_cer3.fasta', 'TTTT') +\n",
    "    PAM_frequency('sac_cer3.fasta', 'TTTG') +\n",
    "    PAM_frequency('sac_cer3.fasta', 'TTTC')\n",
    ")           \n",
    "    \n",
    "    "
   ]
  },
  {
   "cell_type": "code",
   "execution_count": null,
   "metadata": {},
   "outputs": [],
   "source": []
  }
 ],
 "metadata": {
  "kernelspec": {
   "display_name": "Python 3",
   "language": "python",
   "name": "python3"
  },
  "language_info": {
   "codemirror_mode": {
    "name": "ipython",
    "version": 3
   },
   "file_extension": ".py",
   "mimetype": "text/x-python",
   "name": "python",
   "nbconvert_exporter": "python",
   "pygments_lexer": "ipython3",
   "version": "3.6.9"
  }
 },
 "nbformat": 4,
 "nbformat_minor": 4
}
