{ 
  "nbformat": 4,
  "nbformat_minor": 0,
  "metadata": {
    "colab": {
      "name": "GeneHack Sandbox.ipynb",
      "provenance": [],
      "collapsed_sections": []
    },
    "kernelspec": {
      "name": "python3",
      "display_name": "Python 3"
    }
  },
  "cells": [
    {
      "cell_type": "markdown",
      "metadata": {
        "id": "5gKbWTqdaqR8"
      },
      "source": [
        "ЗДЕСЬ МЫ РАЗРАБАТЫВЕМ ЛИНЕЙНУЮ МОДЕЛЬ ДЛЯ БОЛЕЕ ТОЧНОГО РАССЧЕТА СКОРОВ\n",
        "Предлагается взять данные из статьи 2018, расширить пространство параметров, которые подаются на вход модели при обучении и выбрать часть данных, которая нам нужна (нужные файлы)\n"
      ]
    },
    {
      "cell_type": "code",
      "metadata": {
        "id": "_wyBUqhG8RQM"
      },
      "source": [
        "!pip install biopython"
      ],
      "execution_count": null,
      "outputs": []
    },
    {
      "cell_type": "code",
      "metadata": {
        "id": "e4XOaaHmrmV2"
      },
      "source": [
        "!wget http://rna.urmc.rochester.edu/Releases/current/RNAstructureLinuxTextInterfaces64bit.tgz"
      ],
      "execution_count": null,
      "outputs": []
    },
    {
      "cell_type": "code",
      "metadata": {
        "id": "u70gEKka8iwE"
      },
      "source": [
        "!wget 'https://static-content.springer.com/esm/art%3A10.1038%2Fnbt.4061/MediaObjects/41587_2018_BFnbt4061_MOESM39_ESM.xlsx' -O table1.xlsx"
      ],
      "execution_count": null,
      "outputs": []
    },
    {
      "cell_type": "code",
      "metadata": {
        "id": "JmILkkMOdIWZ"
      },
      "source": [
        "!git clone https://github.com/MyungjaeSong/Paired-Library.git"
      ],
      "execution_count": null,
      "outputs": []
    },
    {
      "cell_type": "code",
      "metadata": {
        "id": "nhbtn2NF9PUS"
      },
      "source": [
        "import pandas as pd\n",
        "from Bio.Seq import Seq"
      ],
      "execution_count": 7,
      "outputs": []
    },
    {
      "cell_type": "markdown",
      "metadata": {
        "id": "4GOaLm12cFji"
      },
      "source": [
        "Экспрот данных их статьи https://doi.org/10.1038/nbt.4061\n"
      ]
    },
    {
      "cell_type": "code",
      "metadata": {
        "colab": {
          "base_uri": "https://localhost:8080/",
          "height": 439
        },
        "id": "syYAxQw29hZs",
        "outputId": "1624e0f5-dc75-45f2-d4da-006e62f139f1"
      },
      "source": [
        "data = pd.read_excel('table1.xlsx', header=1).iloc[:-2]\n",
        "data.columns = [\n",
        "    '50bp_seq',\n",
        "    '34bp_seq',\n",
        "    'guide_seq',\n",
        "    'indel_freq_background',\n",
        "    'indel_read_count_background',\n",
        "    'total_read_count_background',\n",
        "    'indel_freq_delivered',\n",
        "    'indel_read_count_delivered',\n",
        "    'total_read_count_delivered',\n",
        "    'indel_freq_background_subtracted'\n",
        "]\n",
        "data"
      ],
      "execution_count": 8,
      "outputs": [
        {
          "output_type": "execute_result",
          "data": {
            "text/html": [
              "<div>\n",
              "<style scoped>\n",
              "    .dataframe tbody tr th:only-of-type {\n",
              "        vertical-align: middle;\n",
              "    }\n",
              "\n",
              "    .dataframe tbody tr th {\n",
              "        vertical-align: top;\n",
              "    }\n",
              "\n",
              "    .dataframe thead th {\n",
              "        text-align: right;\n",
              "    }\n",
              "</style>\n",
              "<table border=\"1\" class=\"dataframe\">\n",
              "  <thead>\n",
              "    <tr style=\"text-align: right;\">\n",
              "      <th></th>\n",
              "      <th>50bp_seq</th>\n",
              "      <th>34bp_seq</th>\n",
              "      <th>guide_seq</th>\n",
              "      <th>indel_freq_background</th>\n",
              "      <th>indel_read_count_background</th>\n",
              "      <th>total_read_count_background</th>\n",
              "      <th>indel_freq_delivered</th>\n",
              "      <th>indel_read_count_delivered</th>\n",
              "      <th>total_read_count_delivered</th>\n",
              "      <th>indel_freq_background_subtracted</th>\n",
              "    </tr>\n",
              "  </thead>\n",
              "  <tbody>\n",
              "    <tr>\n",
              "      <th>0</th>\n",
              "      <td>TGCGCGAGCGTTTAAAAAACATCGAACGCATCTGCTGCCTAGCTTG...</td>\n",
              "      <td>AGCGTTTAAAAAACATCGAACGCATCTGCTGCCT</td>\n",
              "      <td>AAAAACATCGAACGCATCTG</td>\n",
              "      <td>0.191205</td>\n",
              "      <td>1.0</td>\n",
              "      <td>523.0</td>\n",
              "      <td>14.902507</td>\n",
              "      <td>107.0</td>\n",
              "      <td>718.0</td>\n",
              "      <td>14.711302</td>\n",
              "    </tr>\n",
              "    <tr>\n",
              "      <th>1</th>\n",
              "      <td>CTAAAGAAACTTTAAAAATCTTTTCTGCCAGATCTCCAGAAGCTTG...</td>\n",
              "      <td>AAACTTTAAAAATCTTTTCTGCCAGATCTCCAGA</td>\n",
              "      <td>AAAATCTTTTCTGCCAGATC</td>\n",
              "      <td>0.000000</td>\n",
              "      <td>0.0</td>\n",
              "      <td>486.0</td>\n",
              "      <td>0.238095</td>\n",
              "      <td>1.0</td>\n",
              "      <td>420.0</td>\n",
              "      <td>0.238095</td>\n",
              "    </tr>\n",
              "    <tr>\n",
              "      <th>2</th>\n",
              "      <td>TTGCCATTGTTTTAAAACAGGTTCTGTACTTGATCTCTCCAGCTTG...</td>\n",
              "      <td>TTGTTTTAAAACAGGTTCTGTACTTGATCTCTCC</td>\n",
              "      <td>AAACAGGTTCTGTACTTGAT</td>\n",
              "      <td>0.178571</td>\n",
              "      <td>1.0</td>\n",
              "      <td>560.0</td>\n",
              "      <td>88.258317</td>\n",
              "      <td>451.0</td>\n",
              "      <td>511.0</td>\n",
              "      <td>88.079746</td>\n",
              "    </tr>\n",
              "    <tr>\n",
              "      <th>3</th>\n",
              "      <td>TTGCACATATTTTAAAACTGAGTTCAAAGACCACTCTTCCAGCTTG...</td>\n",
              "      <td>ATATTTTAAAACTGAGTTCAAAGACCACTCTTCC</td>\n",
              "      <td>AAACTGAGTTCAAAGACCAC</td>\n",
              "      <td>0.000000</td>\n",
              "      <td>0.0</td>\n",
              "      <td>301.0</td>\n",
              "      <td>75.392670</td>\n",
              "      <td>288.0</td>\n",
              "      <td>382.0</td>\n",
              "      <td>75.392670</td>\n",
              "    </tr>\n",
              "    <tr>\n",
              "      <th>4</th>\n",
              "      <td>TAGACTAATGTTTAAAAGCAAGTGCAAGTCTTTGGAATCTAGCTTG...</td>\n",
              "      <td>AATGTTTAAAAGCAAGTGCAAGTCTTTGGAATCT</td>\n",
              "      <td>AAAGCAAGTGCAAGTCTTTG</td>\n",
              "      <td>0.000000</td>\n",
              "      <td>0.0</td>\n",
              "      <td>460.0</td>\n",
              "      <td>63.320080</td>\n",
              "      <td>637.0</td>\n",
              "      <td>1006.0</td>\n",
              "      <td>63.320080</td>\n",
              "    </tr>\n",
              "    <tr>\n",
              "      <th>...</th>\n",
              "      <td>...</td>\n",
              "      <td>...</td>\n",
              "      <td>...</td>\n",
              "      <td>...</td>\n",
              "      <td>...</td>\n",
              "      <td>...</td>\n",
              "      <td>...</td>\n",
              "      <td>...</td>\n",
              "      <td>...</td>\n",
              "      <td>...</td>\n",
              "    </tr>\n",
              "    <tr>\n",
              "      <th>14995</th>\n",
              "      <td>TCCATCTTCATTTTTTTTGTAGAGTAGGGCTTTATTTCCAAGCTTG...</td>\n",
              "      <td>TTCATTTTTTTTGTAGAGTAGGGCTTTATTTCCA</td>\n",
              "      <td>TTTTGTAGAGTAGGGCTTTA</td>\n",
              "      <td>0.467290</td>\n",
              "      <td>1.0</td>\n",
              "      <td>214.0</td>\n",
              "      <td>0.000000</td>\n",
              "      <td>0.0</td>\n",
              "      <td>209.0</td>\n",
              "      <td>-0.467290</td>\n",
              "    </tr>\n",
              "    <tr>\n",
              "      <th>14996</th>\n",
              "      <td>CCTTCTCTCCTTTTTTTTTCAAGATCTGATTCTTCTTGCAAGCTTG...</td>\n",
              "      <td>CTCCTTTTTTTTTCAAGATCTGATTCTTCTTGCA</td>\n",
              "      <td>TTTTTCAAGATCTGATTCTT</td>\n",
              "      <td>0.000000</td>\n",
              "      <td>0.0</td>\n",
              "      <td>388.0</td>\n",
              "      <td>0.000000</td>\n",
              "      <td>0.0</td>\n",
              "      <td>293.0</td>\n",
              "      <td>0.000000</td>\n",
              "    </tr>\n",
              "    <tr>\n",
              "      <th>14997</th>\n",
              "      <td>CCAGGACTTGTTTTTTTTTCAATCTGTTCATCTTGGACCAAGCTTG...</td>\n",
              "      <td>CTTGTTTTTTTTTCAATCTGTTCATCTTGGACCA</td>\n",
              "      <td>TTTTTCAATCTGTTCATCTT</td>\n",
              "      <td>0.000000</td>\n",
              "      <td>0.0</td>\n",
              "      <td>2125.0</td>\n",
              "      <td>0.239006</td>\n",
              "      <td>5.0</td>\n",
              "      <td>2092.0</td>\n",
              "      <td>0.239006</td>\n",
              "    </tr>\n",
              "    <tr>\n",
              "      <th>14998</th>\n",
              "      <td>ACCATCATAATTTTTTTTTGCAACATAGCCATTTCTTTTTAGCTTG...</td>\n",
              "      <td>ATAATTTTTTTTTGCAACATAGCCATTTCTTTTT</td>\n",
              "      <td>TTTTTGCAACATAGCCATTT</td>\n",
              "      <td>0.357143</td>\n",
              "      <td>1.0</td>\n",
              "      <td>280.0</td>\n",
              "      <td>0.084317</td>\n",
              "      <td>1.0</td>\n",
              "      <td>1186.0</td>\n",
              "      <td>-0.272826</td>\n",
              "    </tr>\n",
              "    <tr>\n",
              "      <th>14999</th>\n",
              "      <td>GAGCGCTTCTTTTTTTTTTTCGGGGTCTCGTTGCTGGGCGAGCTTG...</td>\n",
              "      <td>TTCTTTTTTTTTTTCGGGGTCTCGTTGCTGGGCG</td>\n",
              "      <td>TTTTTTCGGGGTCTCGTTGC</td>\n",
              "      <td>3.500188</td>\n",
              "      <td>93.0</td>\n",
              "      <td>2657.0</td>\n",
              "      <td>0.734024</td>\n",
              "      <td>17.0</td>\n",
              "      <td>2316.0</td>\n",
              "      <td>-2.766164</td>\n",
              "    </tr>\n",
              "  </tbody>\n",
              "</table>\n",
              "<p>15000 rows × 10 columns</p>\n",
              "</div>"
            ],
            "text/plain": [
              "                                                50bp_seq  ... indel_freq_background_subtracted\n",
              "0      TGCGCGAGCGTTTAAAAAACATCGAACGCATCTGCTGCCTAGCTTG...  ...                        14.711302\n",
              "1      CTAAAGAAACTTTAAAAATCTTTTCTGCCAGATCTCCAGAAGCTTG...  ...                         0.238095\n",
              "2      TTGCCATTGTTTTAAAACAGGTTCTGTACTTGATCTCTCCAGCTTG...  ...                        88.079746\n",
              "3      TTGCACATATTTTAAAACTGAGTTCAAAGACCACTCTTCCAGCTTG...  ...                        75.392670\n",
              "4      TAGACTAATGTTTAAAAGCAAGTGCAAGTCTTTGGAATCTAGCTTG...  ...                        63.320080\n",
              "...                                                  ...  ...                              ...\n",
              "14995  TCCATCTTCATTTTTTTTGTAGAGTAGGGCTTTATTTCCAAGCTTG...  ...                        -0.467290\n",
              "14996  CCTTCTCTCCTTTTTTTTTCAAGATCTGATTCTTCTTGCAAGCTTG...  ...                         0.000000\n",
              "14997  CCAGGACTTGTTTTTTTTTCAATCTGTTCATCTTGGACCAAGCTTG...  ...                         0.239006\n",
              "14998  ACCATCATAATTTTTTTTTGCAACATAGCCATTTCTTTTTAGCTTG...  ...                        -0.272826\n",
              "14999  GAGCGCTTCTTTTTTTTTTTCGGGGTCTCGTTGCTGGGCGAGCTTG...  ...                        -2.766164\n",
              "\n",
              "[15000 rows x 10 columns]"
            ]
          },
          "metadata": {
            "tags": []
          },
          "execution_count": 8
        }
      ]
    },
    {
      "cell_type": "markdown",
      "metadata": {
        "id": "Ct0HpbX7clSK"
      },
      "source": [
        "Расширение параметров - анализ ГЦ-состава, полиандениновых районов, анализ вторичной структуры"
      ]
    },
    {
      "cell_type": "code",
      "metadata": {
        "id": "Lp2s4FIa9sWE",
        "colab": {
          "base_uri": "https://localhost:8080/"
        },
        "outputId": "e2817ff3-f1d8-45c9-bf42-b860aa2b3efe"
      },
      "source": [
        "# Set GC content and AAA content\n",
        "data['rna']=0\n",
        "data['GC_content']=0\n",
        "data['AAA_content']=0\n",
        "for index, row in data.iterrows():\n",
        "  rna=Seq(str(row['guide_seq'])).complement().transcribe() \n",
        "  data['GC_content'].iloc[index]=(rna.count(\"G\")+rna.count(\"C\"))/len(rna)\n",
        "  data['AAA_content'].iloc[index]=(rna.count(\"AAA\"))\n",
        "  data['rna'].iloc[index]=str(rna)\n",
        "  "
      ],
      "execution_count": 9,
      "outputs": [
        {
          "output_type": "stream",
          "text": [
            "/usr/local/lib/python3.6/dist-packages/pandas/core/indexing.py:670: SettingWithCopyWarning: \n",
            "A value is trying to be set on a copy of a slice from a DataFrame\n",
            "\n",
            "See the caveats in the documentation: https://pandas.pydata.org/pandas-docs/stable/user_guide/indexing.html#returning-a-view-versus-a-copy\n",
            "  iloc._setitem_with_indexer(indexer, value)\n"
          ],
          "name": "stderr"
        }
      ]
    },
    {
      "cell_type": "code",
      "metadata": {
        "id": "IcGEue-NK6s1"
      },
      "source": [
        "!wget https://www.tbi.univie.ac.at/RNA/download/sourcecode/2_4_x/ViennaRNA-2.4.17.tar.gz\n",
        "!tar -zxvf ViennaRNA-2.4.17.tar.gz\n",
        "!cd ViennaRNA-2.4.17 ; ./configure; make ; sudo make install\n",
        "import sys\n",
        "sys.path.append(\"/content/ViennaRNA-2.4.17/interfaces/Python3/RNA\")\n",
        "import _RNA as RNA\n",
        "import csv\n"
      ],
      "execution_count": null,
      "outputs": []
    },
    {
      "cell_type": "code",
      "metadata": {
        "id": "WDyoC8M3LBg3",
        "colab": {
          "base_uri": "https://localhost:8080/"
        },
        "outputId": "8a99841d-3259-472e-d8c6-e77dfc6d6d1c"
      },
      "source": [
        "# Measure secondary strucute elements content\n",
        "data['sec_str']=0\n",
        "for index, row in data.iterrows():\n",
        "  (ss, mfe) = RNA.fold(str(row['rna']))\n",
        "  data['sec_str'].iloc[index]=ss.count('.')\n"
      ],
      "execution_count": 12,
      "outputs": [
        {
          "output_type": "stream",
          "text": [
            "/usr/local/lib/python3.6/dist-packages/pandas/core/indexing.py:670: SettingWithCopyWarning: \n",
            "A value is trying to be set on a copy of a slice from a DataFrame\n",
            "\n",
            "See the caveats in the documentation: https://pandas.pydata.org/pandas-docs/stable/user_guide/indexing.html#returning-a-view-versus-a-copy\n",
            "  iloc._setitem_with_indexer(indexer, value)\n"
          ],
          "name": "stderr"
        }
      ]
    },
    {
      "cell_type": "code",
      "metadata": {
        "colab": {
          "base_uri": "https://localhost:8080/",
          "height": 439
        },
        "id": "5yHwDKtiRS2N",
        "outputId": "8f42275b-d899-4581-84aa-54e9e84e2444"
      },
      "source": [
        "data\n"
      ],
      "execution_count": 13,
      "outputs": [
        {
          "output_type": "execute_result",
          "data": {
            "text/html": [
              "<div>\n",
              "<style scoped>\n",
              "    .dataframe tbody tr th:only-of-type {\n",
              "        vertical-align: middle;\n",
              "    }\n",
              "\n",
              "    .dataframe tbody tr th {\n",
              "        vertical-align: top;\n",
              "    }\n",
              "\n",
              "    .dataframe thead th {\n",
              "        text-align: right;\n",
              "    }\n",
              "</style>\n",
              "<table border=\"1\" class=\"dataframe\">\n",
              "  <thead>\n",
              "    <tr style=\"text-align: right;\">\n",
              "      <th></th>\n",
              "      <th>50bp_seq</th>\n",
              "      <th>34bp_seq</th>\n",
              "      <th>guide_seq</th>\n",
              "      <th>indel_freq_background</th>\n",
              "      <th>indel_read_count_background</th>\n",
              "      <th>total_read_count_background</th>\n",
              "      <th>indel_freq_delivered</th>\n",
              "      <th>indel_read_count_delivered</th>\n",
              "      <th>total_read_count_delivered</th>\n",
              "      <th>indel_freq_background_subtracted</th>\n",
              "      <th>rna</th>\n",
              "      <th>GC_content</th>\n",
              "      <th>AAA_content</th>\n",
              "      <th>sec_str</th>\n",
              "    </tr>\n",
              "  </thead>\n",
              "  <tbody>\n",
              "    <tr>\n",
              "      <th>0</th>\n",
              "      <td>TGCGCGAGCGTTTAAAAAACATCGAACGCATCTGCTGCCTAGCTTG...</td>\n",
              "      <td>AGCGTTTAAAAAACATCGAACGCATCTGCTGCCT</td>\n",
              "      <td>AAAAACATCGAACGCATCTG</td>\n",
              "      <td>0.191205</td>\n",
              "      <td>1.0</td>\n",
              "      <td>523.0</td>\n",
              "      <td>14.902507</td>\n",
              "      <td>107.0</td>\n",
              "      <td>718.0</td>\n",
              "      <td>14.711302</td>\n",
              "      <td>UUUUUGUAGCUUGCGUAGAC</td>\n",
              "      <td>0.40</td>\n",
              "      <td>0</td>\n",
              "      <td>20</td>\n",
              "    </tr>\n",
              "    <tr>\n",
              "      <th>1</th>\n",
              "      <td>CTAAAGAAACTTTAAAAATCTTTTCTGCCAGATCTCCAGAAGCTTG...</td>\n",
              "      <td>AAACTTTAAAAATCTTTTCTGCCAGATCTCCAGA</td>\n",
              "      <td>AAAATCTTTTCTGCCAGATC</td>\n",
              "      <td>0.000000</td>\n",
              "      <td>0.0</td>\n",
              "      <td>486.0</td>\n",
              "      <td>0.238095</td>\n",
              "      <td>1.0</td>\n",
              "      <td>420.0</td>\n",
              "      <td>0.238095</td>\n",
              "      <td>UUUUAGAAAAGACGGUCUAG</td>\n",
              "      <td>0.35</td>\n",
              "      <td>1</td>\n",
              "      <td>12</td>\n",
              "    </tr>\n",
              "    <tr>\n",
              "      <th>2</th>\n",
              "      <td>TTGCCATTGTTTTAAAACAGGTTCTGTACTTGATCTCTCCAGCTTG...</td>\n",
              "      <td>TTGTTTTAAAACAGGTTCTGTACTTGATCTCTCC</td>\n",
              "      <td>AAACAGGTTCTGTACTTGAT</td>\n",
              "      <td>0.178571</td>\n",
              "      <td>1.0</td>\n",
              "      <td>560.0</td>\n",
              "      <td>88.258317</td>\n",
              "      <td>451.0</td>\n",
              "      <td>511.0</td>\n",
              "      <td>88.079746</td>\n",
              "      <td>UUUGUCCAAGACAUGAACUA</td>\n",
              "      <td>0.35</td>\n",
              "      <td>0</td>\n",
              "      <td>12</td>\n",
              "    </tr>\n",
              "    <tr>\n",
              "      <th>3</th>\n",
              "      <td>TTGCACATATTTTAAAACTGAGTTCAAAGACCACTCTTCCAGCTTG...</td>\n",
              "      <td>ATATTTTAAAACTGAGTTCAAAGACCACTCTTCC</td>\n",
              "      <td>AAACTGAGTTCAAAGACCAC</td>\n",
              "      <td>0.000000</td>\n",
              "      <td>0.0</td>\n",
              "      <td>301.0</td>\n",
              "      <td>75.392670</td>\n",
              "      <td>288.0</td>\n",
              "      <td>382.0</td>\n",
              "      <td>75.392670</td>\n",
              "      <td>UUUGACUCAAGUUUCUGGUG</td>\n",
              "      <td>0.40</td>\n",
              "      <td>0</td>\n",
              "      <td>20</td>\n",
              "    </tr>\n",
              "    <tr>\n",
              "      <th>4</th>\n",
              "      <td>TAGACTAATGTTTAAAAGCAAGTGCAAGTCTTTGGAATCTAGCTTG...</td>\n",
              "      <td>AATGTTTAAAAGCAAGTGCAAGTCTTTGGAATCT</td>\n",
              "      <td>AAAGCAAGTGCAAGTCTTTG</td>\n",
              "      <td>0.000000</td>\n",
              "      <td>0.0</td>\n",
              "      <td>460.0</td>\n",
              "      <td>63.320080</td>\n",
              "      <td>637.0</td>\n",
              "      <td>1006.0</td>\n",
              "      <td>63.320080</td>\n",
              "      <td>UUUCGUUCACGUUCAGAAAC</td>\n",
              "      <td>0.40</td>\n",
              "      <td>1</td>\n",
              "      <td>20</td>\n",
              "    </tr>\n",
              "    <tr>\n",
              "      <th>...</th>\n",
              "      <td>...</td>\n",
              "      <td>...</td>\n",
              "      <td>...</td>\n",
              "      <td>...</td>\n",
              "      <td>...</td>\n",
              "      <td>...</td>\n",
              "      <td>...</td>\n",
              "      <td>...</td>\n",
              "      <td>...</td>\n",
              "      <td>...</td>\n",
              "      <td>...</td>\n",
              "      <td>...</td>\n",
              "      <td>...</td>\n",
              "      <td>...</td>\n",
              "    </tr>\n",
              "    <tr>\n",
              "      <th>14995</th>\n",
              "      <td>TCCATCTTCATTTTTTTTGTAGAGTAGGGCTTTATTTCCAAGCTTG...</td>\n",
              "      <td>TTCATTTTTTTTGTAGAGTAGGGCTTTATTTCCA</td>\n",
              "      <td>TTTTGTAGAGTAGGGCTTTA</td>\n",
              "      <td>0.467290</td>\n",
              "      <td>1.0</td>\n",
              "      <td>214.0</td>\n",
              "      <td>0.000000</td>\n",
              "      <td>0.0</td>\n",
              "      <td>209.0</td>\n",
              "      <td>-0.467290</td>\n",
              "      <td>AAAACAUCUCAUCCCGAAAU</td>\n",
              "      <td>0.35</td>\n",
              "      <td>2</td>\n",
              "      <td>20</td>\n",
              "    </tr>\n",
              "    <tr>\n",
              "      <th>14996</th>\n",
              "      <td>CCTTCTCTCCTTTTTTTTTCAAGATCTGATTCTTCTTGCAAGCTTG...</td>\n",
              "      <td>CTCCTTTTTTTTTCAAGATCTGATTCTTCTTGCA</td>\n",
              "      <td>TTTTTCAAGATCTGATTCTT</td>\n",
              "      <td>0.000000</td>\n",
              "      <td>0.0</td>\n",
              "      <td>388.0</td>\n",
              "      <td>0.000000</td>\n",
              "      <td>0.0</td>\n",
              "      <td>293.0</td>\n",
              "      <td>0.000000</td>\n",
              "      <td>AAAAAGUUCUAGACUAAGAA</td>\n",
              "      <td>0.25</td>\n",
              "      <td>1</td>\n",
              "      <td>12</td>\n",
              "    </tr>\n",
              "    <tr>\n",
              "      <th>14997</th>\n",
              "      <td>CCAGGACTTGTTTTTTTTTCAATCTGTTCATCTTGGACCAAGCTTG...</td>\n",
              "      <td>CTTGTTTTTTTTTCAATCTGTTCATCTTGGACCA</td>\n",
              "      <td>TTTTTCAATCTGTTCATCTT</td>\n",
              "      <td>0.000000</td>\n",
              "      <td>0.0</td>\n",
              "      <td>2125.0</td>\n",
              "      <td>0.239006</td>\n",
              "      <td>5.0</td>\n",
              "      <td>2092.0</td>\n",
              "      <td>0.239006</td>\n",
              "      <td>AAAAAGUUAGACAAGUAGAA</td>\n",
              "      <td>0.25</td>\n",
              "      <td>1</td>\n",
              "      <td>20</td>\n",
              "    </tr>\n",
              "    <tr>\n",
              "      <th>14998</th>\n",
              "      <td>ACCATCATAATTTTTTTTTGCAACATAGCCATTTCTTTTTAGCTTG...</td>\n",
              "      <td>ATAATTTTTTTTTGCAACATAGCCATTTCTTTTT</td>\n",
              "      <td>TTTTTGCAACATAGCCATTT</td>\n",
              "      <td>0.357143</td>\n",
              "      <td>1.0</td>\n",
              "      <td>280.0</td>\n",
              "      <td>0.084317</td>\n",
              "      <td>1.0</td>\n",
              "      <td>1186.0</td>\n",
              "      <td>-0.272826</td>\n",
              "      <td>AAAAACGUUGUAUCGGUAAA</td>\n",
              "      <td>0.30</td>\n",
              "      <td>2</td>\n",
              "      <td>16</td>\n",
              "    </tr>\n",
              "    <tr>\n",
              "      <th>14999</th>\n",
              "      <td>GAGCGCTTCTTTTTTTTTTTCGGGGTCTCGTTGCTGGGCGAGCTTG...</td>\n",
              "      <td>TTCTTTTTTTTTTTCGGGGTCTCGTTGCTGGGCG</td>\n",
              "      <td>TTTTTTCGGGGTCTCGTTGC</td>\n",
              "      <td>3.500188</td>\n",
              "      <td>93.0</td>\n",
              "      <td>2657.0</td>\n",
              "      <td>0.734024</td>\n",
              "      <td>17.0</td>\n",
              "      <td>2316.0</td>\n",
              "      <td>-2.766164</td>\n",
              "      <td>AAAAAAGCCCCAGAGCAACG</td>\n",
              "      <td>0.50</td>\n",
              "      <td>2</td>\n",
              "      <td>16</td>\n",
              "    </tr>\n",
              "  </tbody>\n",
              "</table>\n",
              "<p>15000 rows × 14 columns</p>\n",
              "</div>"
            ],
            "text/plain": [
              "                                                50bp_seq  ... sec_str\n",
              "0      TGCGCGAGCGTTTAAAAAACATCGAACGCATCTGCTGCCTAGCTTG...  ...      20\n",
              "1      CTAAAGAAACTTTAAAAATCTTTTCTGCCAGATCTCCAGAAGCTTG...  ...      12\n",
              "2      TTGCCATTGTTTTAAAACAGGTTCTGTACTTGATCTCTCCAGCTTG...  ...      12\n",
              "3      TTGCACATATTTTAAAACTGAGTTCAAAGACCACTCTTCCAGCTTG...  ...      20\n",
              "4      TAGACTAATGTTTAAAAGCAAGTGCAAGTCTTTGGAATCTAGCTTG...  ...      20\n",
              "...                                                  ...  ...     ...\n",
              "14995  TCCATCTTCATTTTTTTTGTAGAGTAGGGCTTTATTTCCAAGCTTG...  ...      20\n",
              "14996  CCTTCTCTCCTTTTTTTTTCAAGATCTGATTCTTCTTGCAAGCTTG...  ...      12\n",
              "14997  CCAGGACTTGTTTTTTTTTCAATCTGTTCATCTTGGACCAAGCTTG...  ...      20\n",
              "14998  ACCATCATAATTTTTTTTTGCAACATAGCCATTTCTTTTTAGCTTG...  ...      16\n",
              "14999  GAGCGCTTCTTTTTTTTTTTCGGGGTCTCGTTGCTGGGCGAGCTTG...  ...      16\n",
              "\n",
              "[15000 rows x 14 columns]"
            ]
          },
          "metadata": {
            "tags": []
          },
          "execution_count": 13
        }
      ]
    },
    {
      "cell_type": "markdown",
      "metadata": {
        "id": "FX69J2McR7e4"
      },
      "source": [
        "Выберем часть данных, содержащие нужные ПАМы"
      ]
    },
    {
      "cell_type": "code",
      "metadata": {
        "colab": {
          "base_uri": "https://localhost:8080/",
          "height": 541
        },
        "id": "XqW_OgsFtD3R",
        "outputId": "7cb2d4a2-22c3-46c2-d516-d65e645d29b0"
      },
      "source": [
        "data['pam'] = data['34bp_seq'].map(lambda x: x[4:9])\n",
        "pampam = data[data['pam'].str.match('TT[GT]GT')]\n",
        "pampam"
      ],
      "execution_count": 10,
      "outputs": [
        {
          "output_type": "stream",
          "text": [
            "/usr/local/lib/python3.6/dist-packages/ipykernel_launcher.py:1: SettingWithCopyWarning: \n",
            "A value is trying to be set on a copy of a slice from a DataFrame.\n",
            "Try using .loc[row_indexer,col_indexer] = value instead\n",
            "\n",
            "See the caveats in the documentation: https://pandas.pydata.org/pandas-docs/stable/user_guide/indexing.html#returning-a-view-versus-a-copy\n",
            "  \"\"\"Entry point for launching an IPython kernel.\n"
          ],
          "name": "stderr"
        },
        {
          "output_type": "execute_result",
          "data": {
            "text/html": [
              "<div>\n",
              "<style scoped>\n",
              "    .dataframe tbody tr th:only-of-type {\n",
              "        vertical-align: middle;\n",
              "    }\n",
              "\n",
              "    .dataframe tbody tr th {\n",
              "        vertical-align: top;\n",
              "    }\n",
              "\n",
              "    .dataframe thead th {\n",
              "        text-align: right;\n",
              "    }\n",
              "</style>\n",
              "<table border=\"1\" class=\"dataframe\">\n",
              "  <thead>\n",
              "    <tr style=\"text-align: right;\">\n",
              "      <th></th>\n",
              "      <th>50bp_seq</th>\n",
              "      <th>34bp_seq</th>\n",
              "      <th>guide_seq</th>\n",
              "      <th>indel_freq_background</th>\n",
              "      <th>indel_read_count_background</th>\n",
              "      <th>total_read_count_background</th>\n",
              "      <th>indel_freq_delivered</th>\n",
              "      <th>indel_read_count_delivered</th>\n",
              "      <th>total_read_count_delivered</th>\n",
              "      <th>indel_freq_background_subtracted</th>\n",
              "      <th>rna</th>\n",
              "      <th>GC_content</th>\n",
              "      <th>AAA_content</th>\n",
              "      <th>sec_str</th>\n",
              "      <th>pam</th>\n",
              "    </tr>\n",
              "  </thead>\n",
              "  <tbody>\n",
              "    <tr>\n",
              "      <th>10208</th>\n",
              "      <td>CTGGTACCAATTTGTAAACAATATCTTGCATGGTTCTGTCAGCTTG...</td>\n",
              "      <td>CCAATTTGTAAACAATATCTTGCATGGTTCTGTC</td>\n",
              "      <td>TAAACAATATCTTGCATGGT</td>\n",
              "      <td>0.246305</td>\n",
              "      <td>1.0</td>\n",
              "      <td>406.0</td>\n",
              "      <td>63.452915</td>\n",
              "      <td>283.0</td>\n",
              "      <td>446.0</td>\n",
              "      <td>63.206609</td>\n",
              "      <td>AUUUGUUAUAGAACGUACCA</td>\n",
              "      <td>0.30</td>\n",
              "      <td>0</td>\n",
              "      <td>20</td>\n",
              "      <td>TTTGT</td>\n",
              "    </tr>\n",
              "    <tr>\n",
              "      <th>10209</th>\n",
              "      <td>AGGCAATCTCTTTGTAAACCGGGTCACTGAAGTCACTCGCAGCTTG...</td>\n",
              "      <td>TCTCTTTGTAAACCGGGTCACTGAAGTCACTCGC</td>\n",
              "      <td>TAAACCGGGTCACTGAAGTC</td>\n",
              "      <td>0.000000</td>\n",
              "      <td>0.0</td>\n",
              "      <td>273.0</td>\n",
              "      <td>26.946108</td>\n",
              "      <td>180.0</td>\n",
              "      <td>668.0</td>\n",
              "      <td>26.946108</td>\n",
              "      <td>AUUUGGCCCAGUGACUUCAG</td>\n",
              "      <td>0.50</td>\n",
              "      <td>0</td>\n",
              "      <td>20</td>\n",
              "      <td>TTTGT</td>\n",
              "    </tr>\n",
              "    <tr>\n",
              "      <th>10210</th>\n",
              "      <td>ATTGAAGATATTTGTAACAGTTCTTTGATATTTGGTGATCAGCTTG...</td>\n",
              "      <td>GATATTTGTAACAGTTCTTTGATATTTGGTGATC</td>\n",
              "      <td>TAACAGTTCTTTGATATTTG</td>\n",
              "      <td>0.190840</td>\n",
              "      <td>2.0</td>\n",
              "      <td>1048.0</td>\n",
              "      <td>0.000000</td>\n",
              "      <td>0.0</td>\n",
              "      <td>492.0</td>\n",
              "      <td>-0.190840</td>\n",
              "      <td>AUUGUCAAGAAACUAUAAAC</td>\n",
              "      <td>0.25</td>\n",
              "      <td>2</td>\n",
              "      <td>20</td>\n",
              "      <td>TTTGT</td>\n",
              "    </tr>\n",
              "    <tr>\n",
              "      <th>10211</th>\n",
              "      <td>TTCCAGATAATTTGTAACATATGCATAAGAGGCACAGATCAGCTTG...</td>\n",
              "      <td>ATAATTTGTAACATATGCATAAGAGGCACAGATC</td>\n",
              "      <td>TAACATATGCATAAGAGGCA</td>\n",
              "      <td>0.000000</td>\n",
              "      <td>0.0</td>\n",
              "      <td>483.0</td>\n",
              "      <td>27.467811</td>\n",
              "      <td>64.0</td>\n",
              "      <td>233.0</td>\n",
              "      <td>27.467811</td>\n",
              "      <td>AUUGUAUACGUAUUCUCCGU</td>\n",
              "      <td>0.35</td>\n",
              "      <td>0</td>\n",
              "      <td>20</td>\n",
              "      <td>TTTGT</td>\n",
              "    </tr>\n",
              "    <tr>\n",
              "      <th>10212</th>\n",
              "      <td>CCAACTGTGATTTGTAACTCCATTTCATGCTTCCTCTCTCAGCTTG...</td>\n",
              "      <td>GTGATTTGTAACTCCATTTCATGCTTCCTCTCTC</td>\n",
              "      <td>TAACTCCATTTCATGCTTCC</td>\n",
              "      <td>0.148810</td>\n",
              "      <td>1.0</td>\n",
              "      <td>672.0</td>\n",
              "      <td>0.000000</td>\n",
              "      <td>0.0</td>\n",
              "      <td>470.0</td>\n",
              "      <td>-0.148810</td>\n",
              "      <td>AUUGAGGUAAAGUACGAAGG</td>\n",
              "      <td>0.40</td>\n",
              "      <td>1</td>\n",
              "      <td>20</td>\n",
              "      <td>TTTGT</td>\n",
              "    </tr>\n",
              "    <tr>\n",
              "      <th>...</th>\n",
              "      <td>...</td>\n",
              "      <td>...</td>\n",
              "      <td>...</td>\n",
              "      <td>...</td>\n",
              "      <td>...</td>\n",
              "      <td>...</td>\n",
              "      <td>...</td>\n",
              "      <td>...</td>\n",
              "      <td>...</td>\n",
              "      <td>...</td>\n",
              "      <td>...</td>\n",
              "      <td>...</td>\n",
              "      <td>...</td>\n",
              "      <td>...</td>\n",
              "      <td>...</td>\n",
              "    </tr>\n",
              "    <tr>\n",
              "      <th>11360</th>\n",
              "      <td>CTACCGAGGCTTTGTTTTTGGCCGACGTCTCCATGAAGGGAGCTTG...</td>\n",
              "      <td>AGGCTTTGTTTTTGGCCGACGTCTCCATGAAGGG</td>\n",
              "      <td>TTTTTGGCCGACGTCTCCAT</td>\n",
              "      <td>0.274223</td>\n",
              "      <td>3.0</td>\n",
              "      <td>1094.0</td>\n",
              "      <td>0.091324</td>\n",
              "      <td>1.0</td>\n",
              "      <td>1095.0</td>\n",
              "      <td>-0.182899</td>\n",
              "      <td>AAAAACCGGCUGCAGAGGUA</td>\n",
              "      <td>0.50</td>\n",
              "      <td>1</td>\n",
              "      <td>14</td>\n",
              "      <td>TTTGT</td>\n",
              "    </tr>\n",
              "    <tr>\n",
              "      <th>11361</th>\n",
              "      <td>GCCTAACTCATTTGTTTTTGGGCTGCGAAGCCATGTAGAGAGCTTG...</td>\n",
              "      <td>CTCATTTGTTTTTGGGCTGCGAAGCCATGTAGAG</td>\n",
              "      <td>TTTTTGGGCTGCGAAGCCAT</td>\n",
              "      <td>0.000000</td>\n",
              "      <td>0.0</td>\n",
              "      <td>202.0</td>\n",
              "      <td>0.000000</td>\n",
              "      <td>0.0</td>\n",
              "      <td>370.0</td>\n",
              "      <td>0.000000</td>\n",
              "      <td>AAAAACCCGACGCUUCGGUA</td>\n",
              "      <td>0.50</td>\n",
              "      <td>1</td>\n",
              "      <td>12</td>\n",
              "      <td>TTTGT</td>\n",
              "    </tr>\n",
              "    <tr>\n",
              "      <th>11362</th>\n",
              "      <td>TAAAATGACATTTGTTTTTGTGATTCTGTTGTTTATTTTCAGCTTG...</td>\n",
              "      <td>GACATTTGTTTTTGTGATTCTGTTGTTTATTTTC</td>\n",
              "      <td>TTTTTGTGATTCTGTTGTTT</td>\n",
              "      <td>0.000000</td>\n",
              "      <td>0.0</td>\n",
              "      <td>1839.0</td>\n",
              "      <td>0.000000</td>\n",
              "      <td>0.0</td>\n",
              "      <td>1228.0</td>\n",
              "      <td>0.000000</td>\n",
              "      <td>AAAAACACUAAGACAACAAA</td>\n",
              "      <td>0.25</td>\n",
              "      <td>2</td>\n",
              "      <td>20</td>\n",
              "      <td>TTTGT</td>\n",
              "    </tr>\n",
              "    <tr>\n",
              "      <th>11363</th>\n",
              "      <td>CTAAGTCTCATTTGTTTTTTCTTCAAGCTGTGGTTTAACCAGCTTG...</td>\n",
              "      <td>CTCATTTGTTTTTTCTTCAAGCTGTGGTTTAACC</td>\n",
              "      <td>TTTTTTCTTCAAGCTGTGGT</td>\n",
              "      <td>0.000000</td>\n",
              "      <td>0.0</td>\n",
              "      <td>414.0</td>\n",
              "      <td>0.000000</td>\n",
              "      <td>0.0</td>\n",
              "      <td>677.0</td>\n",
              "      <td>0.000000</td>\n",
              "      <td>AAAAAAGAAGUUCGACACCA</td>\n",
              "      <td>0.35</td>\n",
              "      <td>2</td>\n",
              "      <td>20</td>\n",
              "      <td>TTTGT</td>\n",
              "    </tr>\n",
              "    <tr>\n",
              "      <th>11364</th>\n",
              "      <td>TTGCTGTGCATTTGTTTTTTTCTGACACTGGGGCCCTATGAGCTTG...</td>\n",
              "      <td>TGCATTTGTTTTTTTCTGACACTGGGGCCCTATG</td>\n",
              "      <td>TTTTTTTCTGACACTGGGGC</td>\n",
              "      <td>0.000000</td>\n",
              "      <td>0.0</td>\n",
              "      <td>224.0</td>\n",
              "      <td>0.396825</td>\n",
              "      <td>2.0</td>\n",
              "      <td>504.0</td>\n",
              "      <td>0.396825</td>\n",
              "      <td>AAAAAAAGACUGUGACCCCG</td>\n",
              "      <td>0.45</td>\n",
              "      <td>2</td>\n",
              "      <td>20</td>\n",
              "      <td>TTTGT</td>\n",
              "    </tr>\n",
              "  </tbody>\n",
              "</table>\n",
              "<p>1157 rows × 15 columns</p>\n",
              "</div>"
            ],
            "text/plain": [
              "                                                50bp_seq  ...    pam\n",
              "10208  CTGGTACCAATTTGTAAACAATATCTTGCATGGTTCTGTCAGCTTG...  ...  TTTGT\n",
              "10209  AGGCAATCTCTTTGTAAACCGGGTCACTGAAGTCACTCGCAGCTTG...  ...  TTTGT\n",
              "10210  ATTGAAGATATTTGTAACAGTTCTTTGATATTTGGTGATCAGCTTG...  ...  TTTGT\n",
              "10211  TTCCAGATAATTTGTAACATATGCATAAGAGGCACAGATCAGCTTG...  ...  TTTGT\n",
              "10212  CCAACTGTGATTTGTAACTCCATTTCATGCTTCCTCTCTCAGCTTG...  ...  TTTGT\n",
              "...                                                  ...  ...    ...\n",
              "11360  CTACCGAGGCTTTGTTTTTGGCCGACGTCTCCATGAAGGGAGCTTG...  ...  TTTGT\n",
              "11361  GCCTAACTCATTTGTTTTTGGGCTGCGAAGCCATGTAGAGAGCTTG...  ...  TTTGT\n",
              "11362  TAAAATGACATTTGTTTTTGTGATTCTGTTGTTTATTTTCAGCTTG...  ...  TTTGT\n",
              "11363  CTAAGTCTCATTTGTTTTTTCTTCAAGCTGTGGTTTAACCAGCTTG...  ...  TTTGT\n",
              "11364  TTGCTGTGCATTTGTTTTTTTCTGACACTGGGGCCCTATGAGCTTG...  ...  TTTGT\n",
              "\n",
              "[1157 rows x 15 columns]"
            ]
          },
          "metadata": {
            "tags": []
          },
          "execution_count": 10
        }
      ]
    },
    {
      "cell_type": "markdown",
      "metadata": {
        "id": "wYYwWS2vcwy6"
      },
      "source": [
        "Вот эту таблицу данных мы используем для обучения и тестирования линейной модели, для уточнения скоров (TODO)"
      ]
    },
    {
      "cell_type": "code",
      "metadata": {
        "id": "M6a7eIHfLJ8G"
      },
      "source": [
        ""
      ],
      "execution_count": null,
      "outputs": []
    },
    {
      "cell_type": "markdown",
      "metadata": {
        "id": "KtDEivw_LKbi"
      },
      "source": [
        "ПОИСК ОФФ-ТАРГЕТОВ \n",
        "1. Найдем все ПАМы на примере некоторой хромосомы некоторого организма\n",
        "2. Необходимо скачать фаста-файл из БД и положить в текущую директорию"
      ]
    },
    {
      "cell_type": "code",
      "metadata": {
        "id": "_ZcM4rNmFBvb"
      },
      "source": [
        "import Bio"
      ],
      "execution_count": 14,
      "outputs": []
    },
    {
      "cell_type": "code",
      "metadata": {
        "colab": {
          "base_uri": "https://localhost:8080/"
        },
        "id": "plZDmmBdZFgg",
        "outputId": "e3184c66-4dcd-49db-f91d-29aa08e1d4ed"
      },
      "source": [
        "from Bio import SeqIO\n",
        "\n",
        "for s_record in SeqIO.parse('sequence.fasta','fasta'):\n",
        "    name = s_record.id\n",
        "    seq = s_record.seq\n",
        "    seqLen = len(s_record)\n",
        "    print(name,seqLen)\n",
        "genome=seq "
      ],
      "execution_count": 15,
      "outputs": [
        {
          "output_type": "stream",
          "text": [
            "NC_001133.9 230218\n"
          ],
          "name": "stdout"
        }
      ]
    },
    {
      "cell_type": "code",
      "metadata": {
        "id": "XDUArEmralcP"
      },
      "source": [
        "pam1='TTTGT'\n",
        "pam2='TTGGT'"
      ],
      "execution_count": 16,
      "outputs": []
    },
    {
      "cell_type": "code",
      "metadata": {
        "id": "ELXZoPVnNz_X"
      },
      "source": [
        "#from Bio import Align\n",
        "#aligner = Align.PairwiseAligner()\n",
        "#aligner.match_score = 1.0\n",
        "#aligner.mismatch_score = 0\n",
        "#aligner.gap_score = 0\n",
        "#alignments1 = aligner.align(pam1, genome)\n",
        "#alignments2 = aligner.align(pam2, genome)\n"
      ],
      "execution_count": 18,
      "outputs": []
    },
    {
      "cell_type": "code",
      "metadata": {
        "id": "1d_LbSu_WUkX",
        "colab": {
          "base_uri": "https://localhost:8080/"
        },
        "outputId": "564129a3-08b8-4e85-893b-05fa3515b36c"
      },
      "source": [
        "j=0\n",
        "for i in range(230213):\n",
        "  if genome[i:i+5]==pam1:\n",
        "    j=j+1\n",
        "print(\"I found %s PAMs %s in yesst 1 chromosome\"%(j, pam1))\n"
      ],
      "execution_count": 31,
      "outputs": [
        {
          "output_type": "stream",
          "text": [
            "I found 499 PAMs TTTGT in yesst 1 chromosome\n"
          ],
          "name": "stdout"
        }
      ]
    },
    {
      "cell_type": "code",
      "metadata": {
        "colab": {
          "base_uri": "https://localhost:8080/"
        },
        "id": "QZg7MIABNjwu",
        "outputId": "ae449cde-e060-4cdc-ac5e-b070a23406a7"
      },
      "source": [
        "j=0\n",
        "for i in range(230213):\n",
        "  if genome[i:i+5]==pam2:\n",
        "    j=j+1\n",
        "print(\"I found %s PAMs %s in yesst 1 chromosome\"%(j, pam1))\n"
      ],
      "execution_count": 32,
      "outputs": [
        {
          "output_type": "stream",
          "text": [
            "I found 419 PAMs TTTGT in yesst 1 chromosome\n"
          ],
          "name": "stdout"
        }
      ]
    },
    {
      "cell_type": "code",
      "metadata": {
        "id": "U50IcykhQiC9"
      },
      "source": [
        ""
      ],
      "execution_count": null,
      "outputs": []
    }
  ]
}
